{
  "cells": [
    {
      "cell_type": "markdown",
      "id": "4e19830f",
      "metadata": {
        "id": "4e19830f"
      },
      "source": [
        "# AI 語音降噪 Colab\n",
        "這個 Colab 筆記本會使用 [SpeechBrain](https://github.com/speechbrain/speechbrain) 的 MetricGAN+ 模型，使用 GPU 進行語音降噪。\n",
        "\n",
        "載入 Google Drive 中的影音或聲音檔案，並將結果產生為聲音檔 (.wav)。"
      ]
    },
    {
      "cell_type": "code",
      "execution_count": 9,
      "id": "4a8bd13a",
      "metadata": {
        "colab": {
          "base_uri": "https://localhost:8080/"
        },
        "id": "4a8bd13a",
        "outputId": "b92d510a-33d5-4fd1-c967-2ce35f0596e4"
      },
      "outputs": [
        {
          "output_type": "stream",
          "name": "stdout",
          "text": [
            "📂 掛載雲端硬碟中 / Mounting Google Drive...\n",
            "Drive already mounted at /content/drive; to attempt to forcibly remount, call drive.mount(\"/content/drive\", force_remount=True).\n",
            "📦 正在安裝套件 / Installing packages...\n",
            "W: Skipping acquire of configured file 'main/source/Sources' as repository 'https://r2u.stat.illinois.edu/ubuntu jammy InRelease' does not seem to provide it (sources.list entry misspelt?)\n"
          ]
        },
        {
          "output_type": "stream",
          "name": "stderr",
          "text": [
            "INFO:speechbrain.utils.fetching:Fetch hyperparams.yaml: Using symlink found at '/content/pretrained_models/metricgan-plus-voicebank/hyperparams.yaml'\n",
            "INFO:speechbrain.utils.fetching:Fetch custom.py: Fetching from HuggingFace Hub 'speechbrain/metricgan-plus-voicebank' if not cached\n"
          ]
        },
        {
          "output_type": "stream",
          "name": "stdout",
          "text": [
            "✅ 套件安裝完成 / Packages installed!\n",
            "💻 使用裝置 / Device: cuda\n"
          ]
        },
        {
          "output_type": "stream",
          "name": "stderr",
          "text": [
            "DEBUG:speechbrain.utils.parameter_transfer:Collecting files (or symlinks) for pretraining in pretrained_models/metricgan-plus-voicebank.\n",
            "INFO:speechbrain.utils.fetching:Fetch enhance_model.ckpt: Using symlink found at '/content/pretrained_models/metricgan-plus-voicebank/enhance_model.ckpt'\n",
            "DEBUG:speechbrain.utils.parameter_transfer:Set local path in self.paths[\"enhance_model\"] = /content/pretrained_models/metricgan-plus-voicebank/enhance_model.ckpt\n",
            "INFO:speechbrain.utils.parameter_transfer:Loading pretrained files for: enhance_model\n",
            "DEBUG:speechbrain.utils.parameter_transfer:Redirecting (loading from local path): enhance_model -> /content/pretrained_models/metricgan-plus-voicebank/enhance_model.ckpt\n"
          ]
        },
        {
          "output_type": "stream",
          "name": "stdout",
          "text": [
            "📁 偵測到資料夾，開始批次處理 / Folder detected, processing all files...\n",
            "🎵 已處理 / Done: /content/drive/MyDrive/2025內部管理/YT長影片X短影片/講義介紹影片/IMG_3491_denoised.wav\n",
            "🎵 已處理 / Done: /content/drive/MyDrive/2025內部管理/YT長影片X短影片/講義介紹影片/IMG_3492_denoised.wav\n",
            "🎵 已處理 / Done: /content/drive/MyDrive/2025內部管理/YT長影片X短影片/講義介紹影片/IMG_3495_denoised.wav\n",
            "🎵 已處理 / Done: /content/drive/MyDrive/2025內部管理/YT長影片X短影片/講義介紹影片/IMG_3496_denoised.wav\n",
            "🎵 已處理 / Done: /content/drive/MyDrive/2025內部管理/YT長影片X短影片/講義介紹影片/IMG_3497_denoised.wav\n",
            "🎵 已處理 / Done: /content/drive/MyDrive/2025內部管理/YT長影片X短影片/講義介紹影片/IMG_3498_denoised.wav\n",
            "🎵 已處理 / Done: /content/drive/MyDrive/2025內部管理/YT長影片X短影片/講義介紹影片/IMG_3499_denoised.wav\n",
            "🎵 已處理 / Done: /content/drive/MyDrive/2025內部管理/YT長影片X短影片/講義介紹影片/IMG_3500_denoised.wav\n",
            "🎵 已處理 / Done: /content/drive/MyDrive/2025內部管理/YT長影片X短影片/講義介紹影片/IMG_3501_denoised.wav\n",
            "🎵 已處理 / Done: /content/drive/MyDrive/2025內部管理/YT長影片X短影片/講義介紹影片/IMG_3502_denoised.wav\n",
            "🎵 已處理 / Done: /content/drive/MyDrive/2025內部管理/YT長影片X短影片/講義介紹影片/IMG_3503_denoised.wav\n",
            "🎵 已處理 / Done: /content/drive/MyDrive/2025內部管理/YT長影片X短影片/講義介紹影片/IMG_3504_denoised.wav\n",
            "🎵 已處理 / Done: /content/drive/MyDrive/2025內部管理/YT長影片X短影片/講義介紹影片/IMG_3511_denoised.wav\n",
            "🎉 全部搞定 / All done!\n"
          ]
        }
      ],
      "source": [
        "#@title 🎉 一鍵啟動語音降噪 / One-click Audio Denoiser\n",
        "print(\"📂 掛載雲端硬碟中 / Mounting Google Drive...\")\n",
        "from google.colab import drive\n",
        "drive.mount('/content/drive')\n",
        "\n",
        "# 👉 請依需要改這裡（可放資料夾或單一檔案路徑）\n",
        "input_path = \"/content/drive/MyDrive/2025內部管理/YT長影片X短影片/講義介紹影片/\"  #@param {type:\"string\"}\n",
        "use_gpu = True  #@param {type:\"boolean\"}\n",
        "\n",
        "print(\"📦 正在安裝套件 / Installing packages...\")\n",
        "# 安裝系統 ffmpeg（重要）\n",
        "!apt-get -y update -qq\n",
        "!apt-get -y install -qq ffmpeg\n",
        "# Python 套件\n",
        "!pip install -q speechbrain torchaudio ffmpeg-python soundfile\n",
        "print(\"✅ 套件安裝完成 / Packages installed!\")\n",
        "\n",
        "import os, glob, subprocess, torch, torchaudio, tempfile\n",
        "from speechbrain.pretrained import SpectralMaskEnhancement\n",
        "import torchaudio.transforms as T\n",
        "\n",
        "# 讓推論階段關閉梯度\n",
        "torch.set_grad_enabled(False)\n",
        "\n",
        "video_exts = ['.mp4','.mov','.avi','.mkv','.flv','.webm']\n",
        "audio_exts = ['.wav','.mp3','.flac','.ogg','.m4a']\n",
        "\n",
        "def extract_audio(src):\n",
        "    \"\"\"用 ffmpeg 從影片抽 16k/mono/PCM WAV，回傳暫存檔路徑。\"\"\"\n",
        "    fd, tmp_path = tempfile.mkstemp(prefix=\"tmp_input_\", suffix=\".wav\", dir=\"/content\")\n",
        "    os.close(fd)\n",
        "    cmd = [\n",
        "        'ffmpeg','-y','-hide_banner','-loglevel','error',\n",
        "        '-i', src,\n",
        "        '-vn',                 # 不要影片\n",
        "        '-ac','1',             # 單聲道\n",
        "        '-ar','16000',         # 16 kHz\n",
        "        '-acodec','pcm_s16le', # PCM 16-bit\n",
        "        tmp_path\n",
        "    ]\n",
        "    subprocess.run(cmd, check=True)\n",
        "    if not os.path.exists(tmp_path) or os.path.getsize(tmp_path) == 0:\n",
        "        raise RuntimeError(f\"ffmpeg 輸出檔案異常：{tmp_path}\")\n",
        "    return tmp_path\n",
        "\n",
        "def denoise_file(src, enhancer):\n",
        "    \"\"\"處理單一檔案：抽音（若是影片）→ 載入 → 轉單聲道/Resample → 降噪 → 存檔\"\"\"\n",
        "    ext = os.path.splitext(src)[1].lower()\n",
        "    processed_input = src\n",
        "    tmp_to_cleanup = None\n",
        "\n",
        "    if ext in video_exts:\n",
        "        try:\n",
        "            processed_input = extract_audio(src)\n",
        "            tmp_to_cleanup = processed_input\n",
        "        except subprocess.CalledProcessError as e:\n",
        "            print(f\"❌ 影片抽音失敗（ffmpeg）{src}: {e}\")\n",
        "            return\n",
        "        except Exception as e:\n",
        "            print(f\"❌ 影片抽音發生錯誤 {src}: {e}\")\n",
        "            return\n",
        "\n",
        "    try:\n",
        "        audio, sr = torchaudio.load(processed_input)  # [channels, time]\n",
        "\n",
        "        # 轉單聲道（保險）\n",
        "        if audio.dim() == 2 and audio.shape[0] > 1:\n",
        "            audio = torch.mean(audio, dim=0, keepdim=True)  # [1, T]\n",
        "\n",
        "        # Resample -> 16 kHz（模型預期）\n",
        "        if sr != 16000:\n",
        "            resampler = T.Resample(orig_freq=sr, new_freq=16000)\n",
        "            audio = resampler(audio)\n",
        "            sr = 16000\n",
        "\n",
        "        # 轉成 [batch, time] 形狀給 SpeechBrain（目前是 [1, T]，視為 batch=1）\n",
        "        audio = audio.to(torch.float32)\n",
        "        if audio.dim() == 2 and audio.shape[0] == 1:\n",
        "            audio = audio.squeeze(0).unsqueeze(0)  # [1, T] 明確當作 batch\n",
        "\n",
        "        # 放到正確的 device\n",
        "        audio = audio.to(enhancer.device)\n",
        "\n",
        "        # ---- 修正重點：enhance_batch 需要 lengths 參數（相對長度），給 1.0 代表整段有效 ----\n",
        "        lengths = torch.tensor([1.0], device=audio.device)\n",
        "        enhanced = enhancer.enhance_batch(audio, lengths=lengths)  # 回傳 [1, T]\n",
        "        # ---------------------------------------------------------------------------\n",
        "\n",
        "        # 存檔（torchaudio.save 需要 [channels, time]）\n",
        "        out_file = os.path.splitext(src)[0] + '_denoised.wav'\n",
        "        to_save = enhanced.detach().cpu()\n",
        "        if to_save.dim() == 2 and to_save.shape[0] == 1:\n",
        "            pass  # 已是 [1, T]\n",
        "        elif to_save.dim() == 2 and to_save.shape[0] != 1:\n",
        "            # 如果不小心成了 [B, T] 且 B>1，取第一條（理論上不會）\n",
        "            to_save = to_save[:1]\n",
        "        else:\n",
        "            # 若是 [T]，補上 channel 維度\n",
        "            to_save = to_save.unsqueeze(0)\n",
        "\n",
        "        # 夾在 [-1, 1]，避免寫檔溢位\n",
        "        to_save = torch.clamp(to_save, -1.0, 1.0)\n",
        "        torchaudio.save(out_file, to_save, sr)\n",
        "        print(f\"🎵 已處理 / Done: {out_file}\")\n",
        "\n",
        "    except RuntimeError as e:\n",
        "        print(f\"❌ 無法載入或處理音訊檔案 {processed_input}: {e}\")\n",
        "    except Exception as e:\n",
        "        print(f\"❌ 處理檔案時發生錯誤 {src}: {e}\")\n",
        "    finally:\n",
        "        if tmp_to_cleanup and os.path.exists(tmp_to_cleanup):\n",
        "            try:\n",
        "                os.remove(tmp_to_cleanup)\n",
        "            except Exception:\n",
        "                pass\n",
        "\n",
        "# 選擇裝置\n",
        "device = 'cuda' if (use_gpu and torch.cuda.is_available()) else 'cpu'\n",
        "print(f\"💻 使用裝置 / Device: {device}\")\n",
        "\n",
        "# 載入 SpeechBrain MetricGAN+ 增強器\n",
        "enhancer = SpectralMaskEnhancement.from_hparams(\n",
        "    source='speechbrain/metricgan-plus-voicebank',\n",
        "    savedir='pretrained_models/metricgan-plus-voicebank',\n",
        "    run_opts={'device': device}\n",
        ")\n",
        "\n",
        "# 批次或單檔處理\n",
        "if os.path.isdir(input_path):\n",
        "    print('📁 偵測到資料夾，開始批次處理 / Folder detected, processing all files...')\n",
        "    files = [f for f in glob.glob(os.path.join(input_path, '*'))\n",
        "             if os.path.splitext(f)[1].lower() in video_exts + audio_exts]\n",
        "    for f in sorted(files):\n",
        "        denoise_file(f, enhancer)\n",
        "else:\n",
        "    if os.path.exists(input_path):\n",
        "        denoise_file(input_path, enhancer)\n",
        "    else:\n",
        "        print(f\"⚠️ 找不到路徑：{input_path}\")\n",
        "\n",
        "print('🎉 全部搞定 / All done!')\n"
      ]
    }
  ],
  "metadata": {
    "accelerator": "GPU",
    "colab": {
      "name": "audiodenoise_colab.ipynb",
      "provenance": []
    },
    "kernelspec": {
      "display_name": "Python 3",
      "name": "python3"
    },
    "language_info": {
      "name": "python"
    }
  },
  "nbformat": 4,
  "nbformat_minor": 5
}
