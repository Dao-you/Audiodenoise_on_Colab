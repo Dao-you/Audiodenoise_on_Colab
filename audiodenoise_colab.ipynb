{
 "cells": [
  {
   "cell_type": "markdown",
   "id": "4e19830f",
   "metadata": {},
   "source": [
    "# AI 語音降噪 Colab\n",
    "這個 Colab 筆記本會使用 [SpeechBrain](https://github.com/speechbrain/speechbrain) 的 MetricGAN+ 模型，使用 GPU 進行語音降噪。\n",
    "\n",
    "載入 Google Drive 中的影音或聲音檔案，並將結果產生為聲音檔 (.wav)。"
   ]
  },
  {
   "cell_type": "code",
   "execution_count": null,
   "id": "4a8bd13a",
   "metadata": {
    "cellView": "form"
   },
   "outputs": [],
   "source": [
    "#@title 🎉 一鍵啟動語音降噪 / One-click Audio Denoiser\n",
    "print(\"📂 掛載雲端硬碟中 / Mounting Google Drive...\")\n",
    "from google.colab import drive\n",
    "drive.mount('/content/drive')\n",
    "\n",
    "input_path = \"/content/drive/MyDrive/input.wav\"  #@param {type:\"string\"}\n",
    "use_gpu = True  #@param {type:\"boolean\"}\n",
    "\n",
    "print(\"📦 正在安裝套件 / Installing packages...\")\n",
    "!pip install -q speechbrain torchaudio ffmpeg-python\n",
    "print(\"✅ 套件安裝完成 / Packages installed!\")\n",
    "\n",
    "import os, glob, subprocess, torch, torchaudio\n",
    "from speechbrain.pretrained.interfaces import SpectralMaskEnhancement\n",
    "\n",
    "video_exts = ['.mp4','.mov','.avi','.mkv','.flv','.webm']\n",
    "audio_exts = ['.wav','.mp3','.flac','.ogg','.m4a']\n",
    "\n",
    "def extract_audio(src, dst):\n",
    "    subprocess.run(['ffmpeg','-y','-i', src, '-vn','-ac','1', dst], check=True)\n",
    "\n",
    "def denoise_file(src, enhancer):\n",
    "    tmp_wav = '/content/tmp_input.wav'\n",
    "    ext = os.path.splitext(src)[1].lower()\n",
    "    if ext in video_exts:\n",
    "        extract_audio(src, tmp_wav)\n",
    "        processed_input = tmp_wav\n",
    "    else:\n",
    "        processed_input = src\n",
    "    enhanced = enhancer.enhance_file(processed_input)\n",
    "    out_file = os.path.splitext(src)[0] + '_denoised.wav'\n",
    "    torchaudio.save(out_file, enhanced.squeeze(0), 16000)\n",
    "    if processed_input == tmp_wav and os.path.exists(tmp_wav):\n",
    "        os.remove(tmp_wav)\n",
    "    print(f\"🎵 已處理 / Done: {out_file}\")\n",
    "\n",
    "device = 'cuda' if (use_gpu and torch.cuda.is_available()) else 'cpu'\n",
    "print(f\"💻 使用裝置 / Device: {device}\")\n",
    "enhancer = SpectralMaskEnhancement.from_hparams(\n",
    "    source='speechbrain/metricgan-plus-voicebank',\n",
    "    savedir='pretrained_models/metricgan-plus-voicebank',\n",
    "    run_opts={'device': device}\n",
    ")\n",
    "\n",
    "if os.path.isdir(input_path):\n",
    "    print('📁 偵測到資料夾，開始批次處理 / Folder detected, processing all files...')\n",
    "    files = [f for f in glob.glob(os.path.join(input_path, '*')) if os.path.splitext(f)[1].lower() in video_exts + audio_exts]\n",
    "    for f in sorted(files):\n",
    "        denoise_file(f, enhancer)\n",
    "else:\n",
    "    denoise_file(input_path, enhancer)\n",
    "\n",
    "print('🎉 全部搞定 / All done!')\n"
   ]
  }
 ],
 "metadata": {
  "accelerator": "GPU",
  "colab": {
   "name": "audiodenoise_colab.ipynb"
  },
  "kernelspec": {
   "display_name": "Python 3",
   "name": "python3"
  },
  "language_info": {
   "name": "python"
  }
 },
 "nbformat": 4,
 "nbformat_minor": 5
}
