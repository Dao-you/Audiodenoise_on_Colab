{
 "cells": [
  {
   "cell_type": "markdown",
   "metadata": {},
   "source": [
    "# AI 語音降噪 Colab\n",
    "這個 Colab 筆記本會使用 [SpeechBrain](https://github.com/speechbrain/speechbrain) 的 MetricGAN+ 模型，\u4f7f\u7528 GPU \u9032\u884c\u8a9e\u97f3\u964d\u566a\u3002\n",
    "\n",
    "載入 Google Drive 中的影音或聲音檔案，\u4e26\u5c07\u7d50\u679c\u7522\u751f\u70ba\u8072\u97f3\u6a94 (.wav)\u3002"
   ]
  },
  {
   "cell_type": "code",
   "execution_count": null,
   "metadata": {
    "cellView": "form"
   },
   "outputs": [],
   "source": [
    "#@title 1. 安裝相依套件並掛載雲端硬碟\n",
    "!pip install -q speechbrain torchaudio ffmpeg-python\n",
    "from google.colab import drive\n",
    "drive.mount('/content/drive')"
   ]
  },
  {
   "cell_type": "code",
   "execution_count": null,
   "metadata": {
    "cellView": "form"
   },
   "outputs": [],
   "source": [
    "#@title 2. 設定來源檔案與輸出路徑\n",
    "input_path = '/content/drive/MyDrive/input.mp4'  #@param {type:'string'}\n",
    "output_path = '/content/drive/MyDrive/output.wav'  #@param {type:'string'}\n",
    "use_gpu = True  #@param {type:'boolean'}\n"
   ]
  },
  {
   "cell_type": "code",
   "execution_count": null,
   "metadata": {
    "cellView": "form"
   },
   "outputs": [],
   "source": [
    "#@title 3. 執行降噪\n",
    "import os, subprocess, torch, torchaudio\n",
    "from speechbrain.pretrained.interfaces import SpectralMaskEnhancement\n",
    "\n",
    "def extract_audio(src, dst):\n",
    "    subprocess.run(['ffmpeg','-y','-i', src, '-vn','-ac','1', dst], check=True)\n",
    "\n",
    "tmp_wav = '/content/tmp_input.wav'\n",
    "ext = os.path.splitext(input_path)[1].lower()\n",
    "if ext in ['.mp4','.mov','.avi','.mkv','.flv','.webm']:\n",
    "    extract_audio(input_path, tmp_wav)\n",
    "    processed_input = tmp_wav\n",
    "else:\n",
    "    processed_input = input_path\n",
    "\n",
    "device = 'cuda' if (use_gpu and torch.cuda.is_available()) else 'cpu'\n",
    "enhancer = SpectralMaskEnhancement.from_hparams(\n",
    "    source='speechbrain/metricgan-plus-voicebank',\n",
    "    savedir='pretrained_models/metricgan-plus-voicebank',\n",
    "    run_opts={'device': device}\n",
    ")\n",
    "enhanced = enhancer.enhance_file(processed_input)\n",
    "torchaudio.save(output_path, enhanced.squeeze(0), 16000)\n",
    "print('處理完成，結果已儲存至', output_path)"
   ]
  }
 ],
 "metadata": {
  "accelerator": "GPU",
  "colab": {
   "name": "audiodenoise_colab.ipynb"
  },
  "kernelspec": {
   "display_name": "Python 3",
   "name": "python3"
  },
  "language_info": {
   "name": "python"
  }
 },
 "nbformat": 4,
 "nbformat_minor": 0
}
